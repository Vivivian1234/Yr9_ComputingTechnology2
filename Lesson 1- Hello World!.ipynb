{
 "cells": [
  {
   "attachments": {},
   "cell_type": "markdown",
   "metadata": {},
   "source": [
    "# Hello World!\n",
    "\n",
    "The following program will output __*Hello World!*__ to the terminal"
   ]
  },
  {
   "cell_type": "code",
   "execution_count": null,
   "metadata": {},
   "outputs": [],
   "source": [
    "print ('Hello World!')"
   ]
  },
  {
   "attachments": {},
   "cell_type": "markdown",
   "metadata": {},
   "source": [
    "~~Helloooooooooooooo~~\n",
    "\n",
    "__You did **NOT** see that__\n",
    "\n",
    "A wise man once said\n",
    ">You did not\n",
    ">see that ;) ehe~\n",
    "\n",
    "How about a joke to lighten up the mood?\n",
    "\n",
    "Let's see... let me find one perfect for this...\n",
    "\n",
    "__What did the bee say to the sushi?__\n",
    "> *Wasa-bee*\n",
    "\n",
    "__:DDDDDDDDDDDDDDDDDDDDDDDD__\n",
    "\n"
   ]
  }
 ],
 "metadata": {
  "language_info": {
   "name": "python"
  },
  "orig_nbformat": 4
 },
 "nbformat": 4,
 "nbformat_minor": 2
}
